{
 "cells": [
  {
   "cell_type": "code",
   "execution_count": 1,
   "id": "12cc1f85",
   "metadata": {},
   "outputs": [],
   "source": [
    "import os\n",
    "from random import choice"
   ]
  },
  {
   "cell_type": "code",
   "execution_count": 2,
   "id": "c37dfe19",
   "metadata": {},
   "outputs": [
    {
     "data": {
      "text/plain": [
       "['.ipynb_checkpoints',\n",
       " 'levhalar.data',\n",
       " 'levhalar.names',\n",
       " 'levhalar_images',\n",
       " 'levhalar_images_originals',\n",
       " 'levhalar_labels',\n",
       " 'levhalar_testing.txt',\n",
       " 'levhalar_training.txt',\n",
       " 'train_test.ipynb']"
      ]
     },
     "execution_count": 2,
     "metadata": {},
     "output_type": "execute_result"
    }
   ],
   "source": [
    "os.listdir(os.getcwd())"
   ]
  },
  {
   "cell_type": "code",
   "execution_count": 3,
   "id": "d64a2b4e",
   "metadata": {},
   "outputs": [],
   "source": [
    "c=[]\n",
    "for i in os.listdir(os.getcwd()+\"\\\\levhalar_images\"):\n",
    "    if i.endswith(\".jpg\"):\n",
    "        c.append(i.split(\".\")[0])"
   ]
  },
  {
   "cell_type": "code",
   "execution_count": 4,
   "id": "655548b6",
   "metadata": {},
   "outputs": [
    {
     "data": {
      "text/plain": [
       "194.4"
      ]
     },
     "execution_count": 4,
     "metadata": {},
     "output_type": "execute_result"
    }
   ],
   "source": [
    "train=[]\n",
    "test=[]\n",
    "0.8*len(c)"
   ]
  },
  {
   "cell_type": "code",
   "execution_count": 5,
   "id": "b33a41d6",
   "metadata": {},
   "outputs": [],
   "source": [
    "c_=0\n",
    "while c_<194:\n",
    "    num=choice(c)\n",
    "    train.append(num)\n",
    "    c.remove(num)\n",
    "    c_+=1\n",
    "test=c.copy()"
   ]
  },
  {
   "cell_type": "code",
   "execution_count": 6,
   "id": "d4280c94",
   "metadata": {},
   "outputs": [
    {
     "data": {
      "text/plain": [
       "243"
      ]
     },
     "execution_count": 6,
     "metadata": {},
     "output_type": "execute_result"
    }
   ],
   "source": [
    "len(train)+len(test)"
   ]
  },
  {
   "cell_type": "code",
   "execution_count": 7,
   "id": "9ce2d058",
   "metadata": {},
   "outputs": [],
   "source": [
    "with open('levhalar_training.txt', 'w', encoding=\"utf-8\") as f:\n",
    "    for i in train:\n",
    "        f.write(\"levhalar_data/levhalar_images/{}.jpg\".format(i)+\"\\n\")"
   ]
  },
  {
   "cell_type": "code",
   "execution_count": 8,
   "id": "e24a381c",
   "metadata": {},
   "outputs": [],
   "source": [
    "with open('levhalar_testing.txt', 'w', encoding=\"utf-8\") as f:\n",
    "    for i in test:\n",
    "        f.write(\"levhalar_data/levhalar_images/{}.jpg\".format(i)+\"\\n\")"
   ]
  }
 ],
 "metadata": {
  "kernelspec": {
   "display_name": "Python 3",
   "language": "python",
   "name": "python3"
  },
  "language_info": {
   "codemirror_mode": {
    "name": "ipython",
    "version": 3
   },
   "file_extension": ".py",
   "mimetype": "text/x-python",
   "name": "python",
   "nbconvert_exporter": "python",
   "pygments_lexer": "ipython3",
   "version": "3.8.11"
  }
 },
 "nbformat": 4,
 "nbformat_minor": 5
}
